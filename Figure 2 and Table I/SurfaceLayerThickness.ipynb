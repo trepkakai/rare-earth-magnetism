{
 "cells": [
  {
   "cell_type": "code",
   "execution_count": 1,
   "metadata": {},
   "outputs": [],
   "source": [
    "# Imports\n",
    "import numpy as np"
   ]
  },
  {
   "cell_type": "code",
   "execution_count": 2,
   "metadata": {},
   "outputs": [],
   "source": [
    "# Define a function to compute the fraction that are interior atoms for a given set of diameters d and value of t\n",
    "def frac_in(d,t,e):\n",
    "    r = d/2\n",
    "    # Compute difference for numerator\n",
    "    diff = (r-t)**e\n",
    "    num = sum(diff.clip(min = 0))\n",
    "    den = sum(r**e)\n",
    "    return num/den"
   ]
  },
  {
   "cell_type": "code",
   "execution_count": 3,
   "metadata": {},
   "outputs": [],
   "source": [
    "# Define a function to return the optimal value of t given an input of diameters d (nm) and target fraction\n",
    "# that are surface s\n",
    "def get_t(diams, s,e):\n",
    "    # Target for interior fraction\n",
    "    f = 1-s\n",
    "    # Initialize thickness (units: nm)\n",
    "    t = 0\n",
    "    # Increment of accuracy (nm)\n",
    "    inc = .2\n",
    "    # Declare a loss and difference\n",
    "    loss = np.inf\n",
    "    diff = True\n",
    "    # While loop\n",
    "    while diff:\n",
    "        # Compute the current fraction and loss function\n",
    "        fi = frac_in(diams,t,e)\n",
    "        l = (fi-f)**2\n",
    "        # If the loss function is still decreasing, increment the thickness and reset the loss value\n",
    "        if l < loss:\n",
    "            loss = l\n",
    "            t = t + inc\n",
    "        # Otherwise, break the loop\n",
    "        else: \n",
    "            diff = False\n",
    "            t = t - inc\n",
    "    # Return thickness\n",
    "    return t"
   ]
  },
  {
   "cell_type": "code",
   "execution_count": 8,
   "metadata": {},
   "outputs": [],
   "source": [
    "# Data\n",
    "Dy=np.array([36.07,37.64,38.42,25.34,16.13,29.18,14.59,25.45,16.04,19.2,19.97,70.63,73.1,174.7,66.91,48.32,88.13,92.85,25.18,33.05,120.4,15.74,114.5,92.02,81.25,39.16,65.59,23.49,50.9,48.95,66.01,149.8,114.3,55.86,47.32,55.23,38.44,44.36,26.41,23.24,20.78,25,41.4,34.01,29.57,26.61,53.23,28.09,29.57,66.54,44.47,33.06,19.38,70.69,15.96,38.77,69.55,78.67,22.5,13.62,54.49,27.83,46.6,36.96,43.38,35.35,41.78,38.56,43.4,35.45,41.79,38.4,27.32,78.74,99.62,49.81,61.06,57.85,35,39.37,38.28,42.65,52.5,26.25,32.26,28.44,30.62,42.65,30.63,20.78,26.75,29.3,19.75,21.66])\n",
    "Gd=np.array([50.182,22.81,20.9852,20.43776,18.248,15.8973,29.198,24.706,16.845,22.46,14.599,39.305,19.091,21.337,15.722,33.69,11.6168,17.872,7.1488,11.6168,21.4464,25.0208,51.8288,67.9136,22.34,38.4248,47.3608,40.212,22.7864,14.6484,14.6484,13.8346,29.2968,32.552,30.1106,41.5038,21.1588,16.276,52.0832,34.1796,9.678,8.2263,14.0331,31.4535,24.195,28.0662,23.2272,38.4693,30.3705,14.8478,28.3458,29.0207,24.9678,18.1584,21.9414,15.8886,12.8622,15.132,23.4546,24.9678,26.481,28.7508,9.0792,22.698,8.5866,31.224,27.321,21.0762,58.545,52.3002,56.2032,30.7234,38.0703,46.753,46.753,33.395,35.3987,37.4024,36.0666,74.822,23.628,68.915,19.978,32.821,64.215,58.507,20.0728,16.4232,12.7736,11.8612,24.6348,20.0728,29.8284,37.842,16.9176,22.7052,25.3764,17.808,24.486,18.6984,20.4792,17.9396,21.7838,32.6757,16.4232,16.4232,18.248,51.0944,39.2332,31.0216,29.1968,40.1456,34.6712,33.7588,23.2175,28.2375,28.865,60.8675,8.1575,14.4325,15.06,8.785,12.55,10.6675,9.4125,6.275,11.9225,15.6875,15.6875,33.885])\n",
    "Ho=np.array([23.19,16.37,35.46,28.64,34.1,36.82,43.64,30,21.82,54.55,43.64,47.73,10.87,27.18,21.75,23.78,32.62,12.91,25.14,14.95,24.46,26.5,12.91,20.39,26.71,20.48,29.39,35.62,33.84,17.81,31.17,50.76,16.37,60.95,41.54,83.64,18.57,20.42,17.64,18.57,31.56,30.63,11.14,23.21,25.06,19.49,30.63,28.78,28.86,17.57,26.35,20.08,22.4,36.55,25.94,18.87,47.76,22.39,28.36,23.13,27.61,15.67,21.64,11.19,17.03,23.11,20.68,29.19,41.36,37.71,25.55,38.93,19.46,17.03,29.19,27.98,49.95,39.76,43.83,68.3,34.65,78.49,58.1,25.48,31.3,27.29,40.13,27.29,19.26,21.67,19.26,24.08,17.97,41.93,55.91,34.61,23.3,22.63,15.31,25.29,22.63,21.3,19.3,14.64])\n",
    "Er=np.array([43.49,65.24,32.62,39.87,39.58,24.9,21.71,17.88,37.79,30.82,30.83,30.82,26.75,30.23,29.07,30.82,33.99,29.46,35.54,33.99,54.08,35.54,41.72,24.72,18.76,36.58,37.52,29.08,25.4,26.22,19.67,20.49,31.79,26.21,25.1,29,30.68,21.19,26.77,29.56,27.69,30.1,25.28,26.49,27.69,28.89,30.1,24.08,33.71,20.47,27.69,37.32,32.5,31.3,36.12,26.49,30.1,31.3,28.89,28.89,27.69,38.52,30.1,63.8,45.75,36.12,34.91,28.89,36.77,23.87,26.45,22.58,41.29,46.45,38.06,79.35,55.84,33.29,26.84,41.88,36.51,35.43,26.84,32.21,60.82,26.78,27.98,37.71,30.41,42.58,57.17,36.49,29.65,21.53,26.47,24,19.41,18.71,20.12,17.65,19.84,16.77,9.58,48.58,12.66,21.56,33.53,32.5,22.44,25.89,18.99,25.03,30.21,34.53,26.76,34.53,30.21,21.58,28.48,25.89,27.74,22.58,27.1,30.97,36.13,38.71,34.19,30.32])\n",
    "# thicknesses\n",
    "sDy = .53\n",
    "sGd = .37\n",
    "sHo = .61\n",
    "sEr = .30\n",
    "eDy = .01\n",
    "eGd = .01\n",
    "eHo = .04\n",
    "eEr = .01\n",
    "dat = [Dy,Ho,Er];\n",
    "s = [sDy,sHo,sEr];\n",
    "err = [eDy,eHo,eEr];"
   ]
  },
  {
   "cell_type": "code",
   "execution_count": 9,
   "metadata": {},
   "outputs": [
    {
     "name": "stdout",
     "output_type": "stream",
     "text": [
      "The thickness of element 0 is 11.0 plus/minus 1.0 nm.\n",
      "The thickness of element 1 is 6.0 plus/minus 2.0 nm.\n",
      "The thickness of element 2 is 2.0 plus/minus 1.0 nm.\n"
     ]
    }
   ],
   "source": [
    "for i in range(3):\n",
    "    t = get_t(dat[i],s[i],3)\n",
    "    # Get upper and lower bounds\n",
    "    tup = get_t(dat[i],s[i]+err[i],3)\n",
    "    tlo = get_t(dat[i],s[i]-err[i],3)\n",
    "    diff = (tup-tlo)/2\n",
    "    # define an epsilon so np.round rounds 0.5 up to 1 instead of down to 0. Add 1 to error b/c measurement error of diameter > 1 nm\n",
    "    ep = 0.0001\n",
    "    print('The thickness of element ' + str(i%4) + ' is ' + str(np.round(t+ep)) + ' plus/minus ' + str(np.round(diff+ep)+1) + ' nm.')"
   ]
  },
  {
   "cell_type": "code",
   "execution_count": 10,
   "metadata": {},
   "outputs": [
    {
     "name": "stdout",
     "output_type": "stream",
     "text": [
      "The thickness of Gd2O3 is 4.0 plus/minus 1.0 nm.\n"
     ]
    }
   ],
   "source": [
    "# Compute it for Gd\n",
    "t = get_t(Gd,sGd,2)\n",
    "# Get upper and lower bounds\n",
    "tup = get_t(Gd,sGd+eGd,2)\n",
    "tlo = get_t(Gd,sGd-eGd,2)\n",
    "diff = (tup-tlo)/2\n",
    "# define an epsilon so np.round rounds 0.5 up to 1 instead of down to 0. Add 1 to error b/c measurement error of diameter > 1 nm\n",
    "ep = 0.0001\n",
    "print('The thickness of Gd2O3 is ' + str(np.round(t+ep)) + ' plus/minus ' + str(np.round(diff+ep)+1) + ' nm.')"
   ]
  }
 ],
 "metadata": {
  "kernelspec": {
   "display_name": "Python 3",
   "language": "python",
   "name": "python3"
  },
  "language_info": {
   "codemirror_mode": {
    "name": "ipython",
    "version": 3
   },
   "file_extension": ".py",
   "mimetype": "text/x-python",
   "name": "python",
   "nbconvert_exporter": "python",
   "pygments_lexer": "ipython3",
   "version": "3.7.3"
  }
 },
 "nbformat": 4,
 "nbformat_minor": 2
}
